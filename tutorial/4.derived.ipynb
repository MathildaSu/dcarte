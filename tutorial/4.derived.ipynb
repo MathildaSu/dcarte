{
 "cells": [
  {
   "cell_type": "markdown",
   "metadata": {},
   "source": [
    "# Ingesting UKDRI CRT Data with the DCARTE\n",
    "\n",
    "## Derived datasets\n",
    "\n",
    "We've already gone through how to use DCARTE to get UKDRI CRT raw datasets. However, a central element in the process of knowledge discovery (aka data science) is the creation of features that fuse different data sources, transform a single data source using some logic, or aggregate datasets to a relevant frequency.\n",
    "\n",
    "Let's create a step by step example that will make this point simpler to follow. "
   ]
  },
  {
   "cell_type": "markdown",
   "metadata": {},
   "source": [
    "We start by importing dcarte and loading PIR Activity across the houses "
   ]
  },
  {
   "cell_type": "code",
   "execution_count": 26,
   "metadata": {},
   "outputs": [
    {
     "name": "stdout",
     "output_type": "stream",
     "text": [
      "Finished Loading Activity in:                  1.6 seconds   \n"
     ]
    },
    {
     "data": {
      "text/plain": [
       "min      2021-04-30 00:00:09\n",
       "max      2022-02-20 06:07:09\n",
       "count                5561396\n",
       "Name: start_date, dtype: object"
      ]
     },
     "execution_count": 26,
     "metadata": {},
     "output_type": "execute_result"
    }
   ],
   "source": [
    "import dcarte \n",
    "import pandas as pd \n",
    "import seaborn as sns \n",
    "activity = dcarte.load('Activity','raw')\n",
    "activity.start_date.agg(['min','max','count'])"
   ]
  },
  {
   "cell_type": "markdown",
   "metadata": {},
   "source": [
    "We then inspect the DataFrame's info()"
   ]
  },
  {
   "cell_type": "code",
   "execution_count": 7,
   "metadata": {},
   "outputs": [
    {
     "name": "stdout",
     "output_type": "stream",
     "text": [
      "<class 'pandas.core.frame.DataFrame'>\n",
      "RangeIndex: 5561396 entries, 0 to 5561395\n",
      "Data columns (total 6 columns):\n",
      " #   Column         Dtype         \n",
      "---  ------         -----         \n",
      " 0   start_date     datetime64[ns]\n",
      " 1   patient_id     object        \n",
      " 2   home_id        object        \n",
      " 3   location_id    object        \n",
      " 4   location_name  object        \n",
      " 5   source         object        \n",
      "dtypes: datetime64[ns](1), object(5)\n",
      "memory usage: 254.6+ MB\n"
     ]
    }
   ],
   "source": [
    "activity.info()"
   ]
  },
  {
   "cell_type": "markdown",
   "metadata": {},
   "source": [
    "In this example, we wish to convert the raw activity data into a wide one-hot encoding tabular format that allows us to easily analyse the level of activity among households over time (e.g. every six hours every day or every week). One of the first things we should look at is the frequency of activity throughout the various locations in order to simplify the data by deleting or merging certain areas around the household. The best technique to find such targets is to use the pandas plotting capabilities."
   ]
  },
  {
   "cell_type": "code",
   "execution_count": 14,
   "metadata": {},
   "outputs": [
    {
     "data": {
      "text/plain": [
       "<AxesSubplot:>"
      ]
     },
     "execution_count": 14,
     "metadata": {},
     "output_type": "execute_result"
    },
    {
     "data": {
      "image/png": "[encoded data removed]",
      "text/plain": [
       "<Figure size 432x288 with 1 Axes>"
      ]
     },
     "metadata": {
      "needs_background": "light"
     },
     "output_type": "display_data"
    }
   ],
   "source": [
    "activity.location_name.value_counts().plot.barh()"
   ]
  },
  {
   "cell_type": "markdown",
   "metadata": {},
   "source": [
    "The first step is to eliminate unique locations only in a few houses and combine contextually similar locations. This will make it easier to generalise our findings across all homes."
   ]
  },
  {
   "cell_type": "code",
   "execution_count": 25,
   "metadata": {},
   "outputs": [
    {
     "data": {
      "image/png": "[encoded data removed]",
      "text/plain": [
       "<Figure size 432x288 with 1 Axes>"
      ]
     },
     "metadata": {
      "needs_background": "light"
     },
     "output_type": "display_data"
    }
   ],
   "source": [
    "\n",
    "ax = sns.heatmap(pd.crosstab(activity.location_name,activity.patient_id)>0,cbar=False)\n",
    "ax.tick_params(left=False, bottom=False)\n",
    "ax.set_xticklabels([]);"
   ]
  },
  {
   "cell_type": "markdown",
   "metadata": {},
   "source": [
    "A simple interpretation of the above plot can be to do the following cleaning tasks: \n",
    "- filter the cellar and the conservatory, \n",
    "- merge WC1 and bathroom1 \n",
    "- merge study and office\n",
    "- merge the lounge, dining room and living room\n",
    "- merge the corridor and hallway \n",
    "\n",
    "Let's see an example of how to do this using pandas \n"
   ]
  },
  {
   "cell_type": "code",
   "execution_count": 27,
   "metadata": {},
   "outputs": [
    {
     "data": {
      "text/plain": [
       "array(['bedroom1', 'bathroom1', 'hallway', 'lounge', 'kitchen',\n",
       "       'living room', 'corridor1', 'dining room', 'WC1', 'study',\n",
       "       'office'], dtype=object)"
      ]
     },
     "execution_count": 27,
     "metadata": {},
     "output_type": "execute_result"
    }
   ],
   "source": [
    "mask = ~activity.location_name.isin(['cellar','conservatory'])\n",
    "activity = activity[mask]\n",
    "activity.location_name.unique()"
   ]
  },
  {
   "cell_type": "markdown",
   "metadata": {},
   "source": [
    "There are many ways to remap one value into another value in Python. However, in the process of transparency, interpretability and ease of change, I find the dictionary approach shown below to be the simplest to foolow and implement. "
   ]
  },
  {
   "cell_type": "code",
   "execution_count": 29,
   "metadata": {},
   "outputs": [
    {
     "data": {
      "text/plain": [
       "array(['bedroom', 'bathroom', 'hallway', 'lounge', 'kitchen', 'study'],\n",
       "      dtype=object)"
      ]
     },
     "execution_count": 29,
     "metadata": {},
     "output_type": "execute_result"
    }
   ],
   "source": [
    "mapping = {\n",
    "    'bedroom1':'bedroom', \n",
    "    'bathroom1':'bathroom', \n",
    "    'hallway':'hallway', \n",
    "    'lounge':'lounge', \n",
    "    'kitchen':'kitchen',\n",
    "    'living room':'lounge', \n",
    "    'corridor1':'hallway', \n",
    "    'dining room':'lounge', \n",
    "    'WC1':'bathroom', \n",
    "    'study':'study',\n",
    "    'office':'study'}\n",
    "activity.location_name = activity.location_name.map(mapping)\n",
    "activity.location_name.unique()"
   ]
  },
  {
   "cell_type": "markdown",
   "metadata": {},
   "source": [
    "Revisiting the plots we used before is a useful sanity check to validate that the changes we made we applied. "
   ]
  },
  {
   "cell_type": "code",
   "execution_count": 30,
   "metadata": {},
   "outputs": [
    {
     "data": {
      "text/plain": [
       "<AxesSubplot:>"
      ]
     },
     "execution_count": 30,
     "metadata": {},
     "output_type": "execute_result"
    },
    {
     "data": {
      "image/png": "[encoded data removed]",
      "text/plain": [
       "<Figure size 432x288 with 1 Axes>"
      ]
     },
     "metadata": {
      "needs_background": "light"
     },
     "output_type": "display_data"
    }
   ],
   "source": [
    "activity.location_name.value_counts().plot.barh()"
   ]
  },
  {
   "cell_type": "code",
   "execution_count": 31,
   "metadata": {},
   "outputs": [
    {
     "data": {
      "image/png": "[encoded data removed]",
      "text/plain": [
       "<Figure size 432x288 with 1 Axes>"
      ]
     },
     "metadata": {
      "needs_background": "light"
     },
     "output_type": "display_data"
    }
   ],
   "source": [
    "ax = sns.heatmap(pd.crosstab(activity.location_name,activity.patient_id)>0,cbar=False)\n",
    "ax.tick_params(left=False, bottom=False)\n",
    "ax.set_xticklabels([]);"
   ]
  },
  {
   "cell_type": "markdown",
   "metadata": {},
   "source": [
    "After cleaning the location_name we can select just columns of intrest by passing a list of columns names to the DataFrame. "
   ]
  },
  {
   "cell_type": "code",
   "execution_count": 33,
   "metadata": {},
   "outputs": [
    {
     "data": {
      "text/html": [
       "<div>\n",
       "<style scoped>\n",
       "    .dataframe tbody tr th:only-of-type {\n",
       "        vertical-align: middle;\n",
       "    }\n",
       "\n",
       "    .dataframe tbody tr th {\n",
       "        vertical-align: top;\n",
       "    }\n",
       "\n",
       "    .dataframe thead th {\n",
       "        text-align: right;\n",
       "    }\n",
       "</style>\n",
       "<table border=\"1\" class=\"dataframe\">\n",
       "  <thead>\n",
       "    <tr style=\"text-align: right;\">\n",
       "      <th></th>\n",
       "      <th>start_date</th>\n",
       "      <th>patient_id</th>\n",
       "      <th>location_name</th>\n",
       "    </tr>\n",
       "  </thead>\n",
       "  <tbody>\n",
       "    <tr>\n",
       "      <th>0</th>\n",
       "      <td>2021-04-30 00:00:09</td>\n",
       "      <td>576646jHRwm4KkF9uzRnaC</td>\n",
       "      <td>bedroom</td>\n",
       "    </tr>\n",
       "    <tr>\n",
       "      <th>1</th>\n",
       "      <td>2021-04-30 00:00:32</td>\n",
       "      <td>EzjmQuxceJzLATdtyUbDn8</td>\n",
       "      <td>bedroom</td>\n",
       "    </tr>\n",
       "    <tr>\n",
       "      <th>2</th>\n",
       "      <td>2021-04-30 00:01:01</td>\n",
       "      <td>EzjmQuxceJzLATdtyUbDn8</td>\n",
       "      <td>bedroom</td>\n",
       "    </tr>\n",
       "    <tr>\n",
       "      <th>3</th>\n",
       "      <td>2021-04-30 00:01:37</td>\n",
       "      <td>EzjmQuxceJzLATdtyUbDn8</td>\n",
       "      <td>bedroom</td>\n",
       "    </tr>\n",
       "    <tr>\n",
       "      <th>4</th>\n",
       "      <td>2021-04-30 00:01:39</td>\n",
       "      <td>Hpbmfij5E6hh19u1uKFXQT</td>\n",
       "      <td>bedroom</td>\n",
       "    </tr>\n",
       "    <tr>\n",
       "      <th>...</th>\n",
       "      <td>...</td>\n",
       "      <td>...</td>\n",
       "      <td>...</td>\n",
       "    </tr>\n",
       "    <tr>\n",
       "      <th>5561391</th>\n",
       "      <td>2022-02-20 06:06:49</td>\n",
       "      <td>Xv41AaXiVYBKFAa7SLq8F5</td>\n",
       "      <td>bedroom</td>\n",
       "    </tr>\n",
       "    <tr>\n",
       "      <th>5561392</th>\n",
       "      <td>2022-02-20 06:06:54</td>\n",
       "      <td>YYGGmsEaf2gP4JNN9kMprV</td>\n",
       "      <td>bathroom</td>\n",
       "    </tr>\n",
       "    <tr>\n",
       "      <th>5561393</th>\n",
       "      <td>2022-02-20 06:07:00</td>\n",
       "      <td>9HYuS1aHmCBXidcwGhZBTm</td>\n",
       "      <td>hallway</td>\n",
       "    </tr>\n",
       "    <tr>\n",
       "      <th>5561394</th>\n",
       "      <td>2022-02-20 06:07:01</td>\n",
       "      <td>9HYuS1aHmCBXidcwGhZBTm</td>\n",
       "      <td>kitchen</td>\n",
       "    </tr>\n",
       "    <tr>\n",
       "      <th>5561395</th>\n",
       "      <td>2022-02-20 06:07:09</td>\n",
       "      <td>9HYuS1aHmCBXidcwGhZBTm</td>\n",
       "      <td>bedroom</td>\n",
       "    </tr>\n",
       "  </tbody>\n",
       "</table>\n",
       "<p>5542493 rows × 3 columns</p>\n",
       "</div>"
      ],
      "text/plain": [
       "                 start_date              patient_id location_name\n",
       "0       2021-04-30 00:00:09  576646jHRwm4KkF9uzRnaC       bedroom\n",
       "1       2021-04-30 00:00:32  EzjmQuxceJzLATdtyUbDn8       bedroom\n",
       "2       2021-04-30 00:01:01  EzjmQuxceJzLATdtyUbDn8       bedroom\n",
       "3       2021-04-30 00:01:37  EzjmQuxceJzLATdtyUbDn8       bedroom\n",
       "4       2021-04-30 00:01:39  Hpbmfij5E6hh19u1uKFXQT       bedroom\n",
       "...                     ...                     ...           ...\n",
       "5561391 2022-02-20 06:06:49  Xv41AaXiVYBKFAa7SLq8F5       bedroom\n",
       "5561392 2022-02-20 06:06:54  YYGGmsEaf2gP4JNN9kMprV      bathroom\n",
       "5561393 2022-02-20 06:07:00  9HYuS1aHmCBXidcwGhZBTm       hallway\n",
       "5561394 2022-02-20 06:07:01  9HYuS1aHmCBXidcwGhZBTm       kitchen\n",
       "5561395 2022-02-20 06:07:09  9HYuS1aHmCBXidcwGhZBTm       bedroom\n",
       "\n",
       "[5542493 rows x 3 columns]"
      ]
     },
     "execution_count": 33,
     "metadata": {},
     "output_type": "execute_result"
    }
   ],
   "source": [
    "activity[['start_date','patient_id','location_name']]"
   ]
  },
  {
   "cell_type": "markdown",
   "metadata": {},
   "source": [
    "Now, let's say we decide to merge the study with the lounge location, all we need to run the entire process again and update the mapping dictionary.  "
   ]
  },
  {
   "cell_type": "code",
   "execution_count": 51,
   "metadata": {},
   "outputs": [
    {
     "name": "stdout",
     "output_type": "stream",
     "text": [
      "Finished Loading Activity in:                  1.3 seconds   \n"
     ]
    },
    {
     "data": {
      "text/plain": [
       "array(['bedroom', 'bathroom', 'hallway', 'lounge', 'kitchen'],\n",
       "      dtype=object)"
      ]
     },
     "execution_count": 51,
     "metadata": {},
     "output_type": "execute_result"
    }
   ],
   "source": [
    "activity = dcarte.load('Activity','raw')\n",
    "mask = ~activity.location_name.isin(['cellar','conservatory'])\n",
    "activity = activity[mask]\n",
    "mapping = {\n",
    "    'bedroom1':'bedroom', \n",
    "    'bathroom1':'bathroom', \n",
    "    'hallway':'hallway', \n",
    "    'lounge':'lounge', \n",
    "    'kitchen':'kitchen',\n",
    "    'living room':'lounge', \n",
    "    'corridor1':'hallway', \n",
    "    'dining room':'lounge', \n",
    "    'WC1':'bathroom', \n",
    "    'study':'lounge',\n",
    "    'office':'lounge'}\n",
    "activity.location_name = activity.location_name.map(mapping)\n",
    "activity.location_name.unique()"
   ]
  },
  {
   "cell_type": "markdown",
   "metadata": {},
   "source": [
    "In the end, we now have a single dataset in which the majority of households are similar and there are very few homes with missing locations."
   ]
  },
  {
   "cell_type": "code",
   "execution_count": 43,
   "metadata": {},
   "outputs": [
    {
     "data": {
      "image/png": "[encoded data removed]",
      "text/plain": [
       "<Figure size 720x216 with 2 Axes>"
      ]
     },
     "metadata": {
      "needs_background": "light"
     },
     "output_type": "display_data"
    }
   ],
   "source": [
    "df = pd.crosstab(activity.location_name,activity.patient_id)\n",
    "from matplotlib.colors import LogNorm\n",
    "import matplotlib.pyplot as plt \n",
    "fig, ax = plt.subplots(figsize=(10,3))\n",
    "sns.heatmap(df,  norm=LogNorm(),ax=ax)\n",
    "ax.tick_params(left=False, bottom=False)\n",
    "ax.set_xticklabels([]);"
   ]
  },
  {
   "cell_type": "markdown",
   "metadata": {},
   "source": [
    "Converting this dataset to a wide one-hot encoding format where time and patient ids are the indexes and the different locations are the columns requires calling a pandas function called `pd.get_dummies`."
   ]
  },
  {
   "cell_type": "code",
   "execution_count": 53,
   "metadata": {},
   "outputs": [
    {
     "data": {
      "text/html": [
       "<div>\n",
       "<style scoped>\n",
       "    .dataframe tbody tr th:only-of-type {\n",
       "        vertical-align: middle;\n",
       "    }\n",
       "\n",
       "    .dataframe tbody tr th {\n",
       "        vertical-align: top;\n",
       "    }\n",
       "\n",
       "    .dataframe thead th {\n",
       "        text-align: right;\n",
       "    }\n",
       "</style>\n",
       "<table border=\"1\" class=\"dataframe\">\n",
       "  <thead>\n",
       "    <tr style=\"text-align: right;\">\n",
       "      <th></th>\n",
       "      <th></th>\n",
       "      <th>bathroom</th>\n",
       "      <th>bedroom</th>\n",
       "      <th>hallway</th>\n",
       "      <th>kitchen</th>\n",
       "      <th>lounge</th>\n",
       "    </tr>\n",
       "    <tr>\n",
       "      <th>patient_id</th>\n",
       "      <th>start_date</th>\n",
       "      <th></th>\n",
       "      <th></th>\n",
       "      <th></th>\n",
       "      <th></th>\n",
       "      <th></th>\n",
       "    </tr>\n",
       "  </thead>\n",
       "  <tbody>\n",
       "    <tr>\n",
       "      <th>576646jHRwm4KkF9uzRnaC</th>\n",
       "      <th>2021-04-30 00:00:09</th>\n",
       "      <td>0</td>\n",
       "      <td>1</td>\n",
       "      <td>0</td>\n",
       "      <td>0</td>\n",
       "      <td>0</td>\n",
       "    </tr>\n",
       "    <tr>\n",
       "      <th rowspan=\"3\" valign=\"top\">EzjmQuxceJzLATdtyUbDn8</th>\n",
       "      <th>2021-04-30 00:00:32</th>\n",
       "      <td>0</td>\n",
       "      <td>1</td>\n",
       "      <td>0</td>\n",
       "      <td>0</td>\n",
       "      <td>0</td>\n",
       "    </tr>\n",
       "    <tr>\n",
       "      <th>2021-04-30 00:01:01</th>\n",
       "      <td>0</td>\n",
       "      <td>1</td>\n",
       "      <td>0</td>\n",
       "      <td>0</td>\n",
       "      <td>0</td>\n",
       "    </tr>\n",
       "    <tr>\n",
       "      <th>2021-04-30 00:01:37</th>\n",
       "      <td>0</td>\n",
       "      <td>1</td>\n",
       "      <td>0</td>\n",
       "      <td>0</td>\n",
       "      <td>0</td>\n",
       "    </tr>\n",
       "    <tr>\n",
       "      <th>Hpbmfij5E6hh19u1uKFXQT</th>\n",
       "      <th>2021-04-30 00:01:39</th>\n",
       "      <td>0</td>\n",
       "      <td>1</td>\n",
       "      <td>0</td>\n",
       "      <td>0</td>\n",
       "      <td>0</td>\n",
       "    </tr>\n",
       "    <tr>\n",
       "      <th>...</th>\n",
       "      <th>...</th>\n",
       "      <td>...</td>\n",
       "      <td>...</td>\n",
       "      <td>...</td>\n",
       "      <td>...</td>\n",
       "      <td>...</td>\n",
       "    </tr>\n",
       "    <tr>\n",
       "      <th>Xv41AaXiVYBKFAa7SLq8F5</th>\n",
       "      <th>2022-02-20 06:06:49</th>\n",
       "      <td>0</td>\n",
       "      <td>1</td>\n",
       "      <td>0</td>\n",
       "      <td>0</td>\n",
       "      <td>0</td>\n",
       "    </tr>\n",
       "    <tr>\n",
       "      <th>YYGGmsEaf2gP4JNN9kMprV</th>\n",
       "      <th>2022-02-20 06:06:54</th>\n",
       "      <td>1</td>\n",
       "      <td>0</td>\n",
       "      <td>0</td>\n",
       "      <td>0</td>\n",
       "      <td>0</td>\n",
       "    </tr>\n",
       "    <tr>\n",
       "      <th rowspan=\"3\" valign=\"top\">9HYuS1aHmCBXidcwGhZBTm</th>\n",
       "      <th>2022-02-20 06:07:00</th>\n",
       "      <td>0</td>\n",
       "      <td>0</td>\n",
       "      <td>1</td>\n",
       "      <td>0</td>\n",
       "      <td>0</td>\n",
       "    </tr>\n",
       "    <tr>\n",
       "      <th>2022-02-20 06:07:01</th>\n",
       "      <td>0</td>\n",
       "      <td>0</td>\n",
       "      <td>0</td>\n",
       "      <td>1</td>\n",
       "      <td>0</td>\n",
       "    </tr>\n",
       "    <tr>\n",
       "      <th>2022-02-20 06:07:09</th>\n",
       "      <td>0</td>\n",
       "      <td>1</td>\n",
       "      <td>0</td>\n",
       "      <td>0</td>\n",
       "      <td>0</td>\n",
       "    </tr>\n",
       "  </tbody>\n",
       "</table>\n",
       "<p>5542493 rows × 5 columns</p>\n",
       "</div>"
      ],
      "text/plain": [
       "                                            bathroom  bedroom  hallway  \\\n",
       "patient_id             start_date                                        \n",
       "576646jHRwm4KkF9uzRnaC 2021-04-30 00:00:09         0        1        0   \n",
       "EzjmQuxceJzLATdtyUbDn8 2021-04-30 00:00:32         0        1        0   \n",
       "                       2021-04-30 00:01:01         0        1        0   \n",
       "                       2021-04-30 00:01:37         0        1        0   \n",
       "Hpbmfij5E6hh19u1uKFXQT 2021-04-30 00:01:39         0        1        0   \n",
       "...                                              ...      ...      ...   \n",
       "Xv41AaXiVYBKFAa7SLq8F5 2022-02-20 06:06:49         0        1        0   \n",
       "YYGGmsEaf2gP4JNN9kMprV 2022-02-20 06:06:54         1        0        0   \n",
       "9HYuS1aHmCBXidcwGhZBTm 2022-02-20 06:07:00         0        0        1   \n",
       "                       2022-02-20 06:07:01         0        0        0   \n",
       "                       2022-02-20 06:07:09         0        1        0   \n",
       "\n",
       "                                            kitchen  lounge  \n",
       "patient_id             start_date                            \n",
       "576646jHRwm4KkF9uzRnaC 2021-04-30 00:00:09        0       0  \n",
       "EzjmQuxceJzLATdtyUbDn8 2021-04-30 00:00:32        0       0  \n",
       "                       2021-04-30 00:01:01        0       0  \n",
       "                       2021-04-30 00:01:37        0       0  \n",
       "Hpbmfij5E6hh19u1uKFXQT 2021-04-30 00:01:39        0       0  \n",
       "...                                             ...     ...  \n",
       "Xv41AaXiVYBKFAa7SLq8F5 2022-02-20 06:06:49        0       0  \n",
       "YYGGmsEaf2gP4JNN9kMprV 2022-02-20 06:06:54        0       0  \n",
       "9HYuS1aHmCBXidcwGhZBTm 2022-02-20 06:07:00        0       0  \n",
       "                       2022-02-20 06:07:01        1       0  \n",
       "                       2022-02-20 06:07:09        0       0  \n",
       "\n",
       "[5542493 rows x 5 columns]"
      ]
     },
     "execution_count": 53,
     "metadata": {},
     "output_type": "execute_result"
    }
   ],
   "source": [
    "activity = activity.set_index(['patient_id','start_date']).location_name\n",
    "activity = pd.get_dummies(activity)\n",
    "activity"
   ]
  },
  {
   "cell_type": "markdown",
   "metadata": {},
   "source": [
    "It would be helpful to formalise this process so that it does not require us to run it each time. Formalising derived datasets is another aspect of dcarte that simplifies the collaborations on different parts of data processing. Dcarte comes armed with three samples derived datasets that can be available using a simple command. Running any of the three functions listed below will add a single domain to your dcarte library. These functions will automatically download needed datasets and create the different local datasets described internally."
   ]
  },
  {
   "cell_type": "code",
   "execution_count": 54,
   "metadata": {},
   "outputs": [
    {
     "name": "stdout",
     "output_type": "stream",
     "text": [
      "Finished Loading door in:                      0.2 seconds   \n",
      "Finished Loading doors in:                     0.1 seconds   \n",
      "Finished Loading environmental in:             3.1 seconds   \n",
      "Finished Loading device_types in:              0.0 seconds   \n",
      "Finished Loading appliances in:                0.0 seconds   \n",
      "Finished Loading doors in:                     0.1 seconds   \n",
      "Finished Loading activity in:                  1.3 seconds   \n",
      "Finished Loading device_types in:              0.0 seconds   \n",
      "Finished Loading activity in:                  1.1 seconds   \n",
      "Finished Loading entryway in:                  0.0 seconds   \n",
      "Finished Loading sleep_event in:               0.1 seconds   \n",
      "Finished Loading vital_signs in:               0.0 seconds   \n",
      "Finished Loading blood_pressure in:            0.0 seconds   \n",
      "Finished Loading device_types in:              0.0 seconds   \n",
      "Finished Loading sleep_mat in:                 1.1 seconds   \n",
      "Finished Loading motion in:                    0.7 seconds   \n"
     ]
    }
   ],
   "source": [
    "from dcarte.derived import (create_base_datasets,\n",
    "                            create_weekly_profile,\n",
    "                            create_bed_occupancy)\n",
    "create_base_datasets()"
   ]
  },
  {
   "cell_type": "code",
   "execution_count": 55,
   "metadata": {},
   "outputs": [
    {
     "name": "stdout",
     "output_type": "stream",
     "text": [
      "Finished Loading motion in:                    0.6 seconds   \n",
      "Finished Loading activity_dailies in:          0.0 seconds   \n",
      "Finished Loading sleep in:                     1.9 seconds   \n",
      "Finished Loading sleep_dailies in:             0.0 seconds   \n",
      "Finished Loading physiology in:                0.0 seconds   \n",
      "Finished Loading physiology_dailies in:        0.0 seconds   \n",
      "Finished Loading Habitat in:                   0.5 seconds   \n",
      "Finished Loading Habitat in:                   0.5 seconds   \n"
     ]
    }
   ],
   "source": [
    "create_weekly_profile()"
   ]
  },
  {
   "cell_type": "code",
   "execution_count": 56,
   "metadata": {},
   "outputs": [
    {
     "name": "stdout",
     "output_type": "stream",
     "text": [
      "Finished Loading sleep in:                     2.0 seconds   \n"
     ]
    }
   ],
   "source": [
    "create_bed_occupancy()"
   ]
  },
  {
   "cell_type": "markdown",
   "metadata": {},
   "source": [
    "When you run dcarte.domains() for the final time, you will notice that you now have a greater number of domains under your control than before. In the following section, we will go over one of these recipes in detail and show you how to create an expansion of it on your own using the material you have gained so far in this tutorial."
   ]
  },
  {
   "cell_type": "code",
   "execution_count": null,
   "metadata": {},
   "outputs": [],
   "source": []
  }
 ],
 "metadata": {
  "interpreter": {
   "hash": "b0ee27f7a97b1fdf1136c05d44d8faf8d1201229ac0bc94db93de0aa97de366a"
  },
  "kernelspec": {
   "display_name": "Python 3.8.12 ('sandbox')",
   "language": "python",
   "name": "python3"
  },
  "language_info": {
   "codemirror_mode": {
    "name": "ipython",
    "version": 3
   },
   "file_extension": ".py",
   "mimetype": "text/x-python",
   "name": "python",
   "nbconvert_exporter": "python",
   "pygments_lexer": "ipython3",
   "version": "3.8.12"
  },
  "orig_nbformat": 4
 },
 "nbformat": 4,
 "nbformat_minor": 2
}

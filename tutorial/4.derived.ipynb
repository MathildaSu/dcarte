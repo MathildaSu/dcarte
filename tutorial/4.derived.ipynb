{
 "cells": [
  {
   "cell_type": "markdown",
   "metadata": {},
   "source": [
    "# Ingesting UKDRI CRT Data with the DCARTE\n",
    "\n",
    "## Derived datasets\n",
    "\n",
    "We've already gone through how to use DCARTE to get UKDRI CRT raw datasets. However, a central element in the process of knowledge discovery (aka data science) is the creation of features that fuse different data sources, transform a single data source using some logic, or aggregate datasets to a relevant frequency.\n",
    "\n",
    "Let's create a step by step example that will make this point simpler to follow. "
   ]
  },
  {
   "cell_type": "markdown",
   "metadata": {},
   "source": [
    "We start by importing dcarte and loading PIR Activity across the houses "
   ]
  },
  {
   "cell_type": "code",
   "execution_count": 4,
   "metadata": {},
   "outputs": [
    {
     "name": "stdout",
     "output_type": "stream",
     "text": [
      "Processing activity :**"
     ]
    },
    {
     "name": "stderr",
     "output_type": "stream",
     "text": [
      "Downloading activity: 100%|██████████| 1/1 [00:56<00:00, 56.68s/it]\n"
     ]
    },
    {
     "name": "stdout",
     "output_type": "stream",
     "text": [
      "Finished Loading Activity in:                 82.9 seconds   \n"
     ]
    },
    {
     "data": {
      "text/plain": [
       "min      2022-02-01 00:00:01\n",
       "max      2022-02-19 23:59:49\n",
       "count                 453932\n",
       "Name: start_date, dtype: object"
      ]
     },
     "execution_count": 4,
     "metadata": {},
     "output_type": "execute_result"
    }
   ],
   "source": [
    "import dcarte \n",
    "import pandas as pd \n",
    "import seaborn as sns \n",
    "activity = dcarte.load('Activity','raw',since='2022-02-01',until='2022-02-20',reload=True)\n",
    "activity.start_date.agg(['min','max','count'])"
   ]
  },
  {
   "cell_type": "markdown",
   "metadata": {},
   "source": [
    "We then inspect the DataFrame's info()"
   ]
  },
  {
   "cell_type": "code",
   "execution_count": 5,
   "metadata": {},
   "outputs": [
    {
     "name": "stdout",
     "output_type": "stream",
     "text": [
      "<class 'pandas.core.frame.DataFrame'>\n",
      "RangeIndex: 453932 entries, 0 to 453931\n",
      "Data columns (total 6 columns):\n",
      " #   Column         Non-Null Count   Dtype         \n",
      "---  ------         --------------   -----         \n",
      " 0   start_date     453932 non-null  datetime64[ns]\n",
      " 1   patient_id     453932 non-null  category      \n",
      " 2   home_id        453932 non-null  category      \n",
      " 3   location_id    453932 non-null  category      \n",
      " 4   location_name  453932 non-null  category      \n",
      " 5   source         453932 non-null  object        \n",
      "dtypes: category(4), datetime64[ns](1), object(1)\n",
      "memory usage: 9.1+ MB\n"
     ]
    }
   ],
   "source": [
    "activity.info()"
   ]
  },
  {
   "cell_type": "markdown",
   "metadata": {},
   "source": [
    "In this example, we wish to convert the raw activity data into a wide one-hot encoding tabular format that allows us to easily analyse the level of activity among households over time (e.g. every six hours every day or every week). One of the first things we should look at is the frequency of activity throughout the various locations in order to simplify the data by deleting or merging certain areas around the household. The best technique to find such targets is to use the pandas plotting capabilities."
   ]
  },
  {
   "cell_type": "code",
   "execution_count": 9,
   "metadata": {},
   "outputs": [
    {
     "data": {
      "text/plain": [
       "Index(['2GN1PHeHwRzNYQ7q4Nvg7g', '2zbyXzYNKPwiPtjaA2L64o',\n",
       "       '3hY7Mp7u9YPo1xMARSxLhc', '4h1dAuzg9rdrhyojwxUS26',\n",
       "       '64RLyRh1fEUutdhMnvu17d', '6xrbQMkh12eYMdP7Xi1ggc',\n",
       "       '82jgn4MkSPaYsQZX92n9kC', '8MzeY8ZePeGa6kFKJpXoMm',\n",
       "       '965K58vYarXQTZEgss6HzT', '9HYuS1aHmCBXidcwGhZBTm',\n",
       "       '9YauALfsfPs11tkX1Rb9jq', 'AFqqwemwCJ5ECzaXBcQFHh',\n",
       "       'AupBYL7RJpU4KLUmsWZ7Uz', 'B3cr4Euax91r63NSvVhrxs',\n",
       "       'BjAJmKMnmScXNFfSGd5RWr', 'BqG6BCSqzJzxsiKHuMcrqr',\n",
       "       'CC9UHg3L6QGurrhbqv1v36', 'DArgytxDspe3jPUMMLhnvk',\n",
       "       'Dr1tnvKDk2bHG8YS21nwiR', 'EH76RUxUE8DUtjuw6qdqy1',\n",
       "       'Ea5ofFVKwHmHWrZSQEd7uj', 'EzjmQuxceJzLATdtyUbDn8',\n",
       "       'GN6rJBMTm987Q99Zd6umgT', 'HCahseCCzPyFVkut5ya5Dm',\n",
       "       'HdozjhTxFXBhYAnKje524Q', 'Hpbmfij5E6hh19u1uKFXQT',\n",
       "       'JCkDxjf4VxPZ9ApvwBXXhs', 'JEvSjBYo6KvDKHCGUnDNxm',\n",
       "       'JHvi2gBhcufYzhmg4F1H9T', 'JQwQLzfRYX5KmetFSg69kK',\n",
       "       'Jyn62ywXtasNk9E732LsER', 'K6HnqfpnKjDE2pRfKxE6sX',\n",
       "       'KtDu28PYqvkTddiXFcETFZ', 'MghE4vUbHVo6WfjSiy2FkF',\n",
       "       'Mhy2uUxJnCtsEZbToCDDEE', 'NVsBVXssrkn1cfSDjTQqdx',\n",
       "       'Nuj2WjhkRnG2zHsnpPpadw', 'PEqWC2grULEzbhEvkAWEz2',\n",
       "       'PFWXtc1ZAL6okGuhVPrabe', 'PtSJCv5bDWvZe3f1V7wRgQ',\n",
       "       'R6EMvJdLnRhM4t8o3Fuqwd', 'R8amTSvAQkobnkeuWybkWL',\n",
       "       'SURX1xE2iymy4aexFE34yv', 'TBtq2x9LuMnZt9MmNcj1Xv',\n",
       "       'TDYFcFDBmhxGymqBtvKnqV', 'TTTuJeUvnGhPJBznMtCiNj',\n",
       "       'TwiUT1L1KSVnRdBuEywxfh', 'U2dZSjjycMm5bRNvHcLrAr',\n",
       "       'V4H3rTBaezHnbXufvjFQmM', 'VmrLbcBzyzacPx8WBnnttf',\n",
       "       'WSdj9TjJMT4oqpdMvMDsgg', 'WtYLx1dEr6hHgQDg8TKcGP',\n",
       "       'X7dJAZjrhEa1kRFUkoZVvg', 'XsfBVz6GP7XtvhY4CiAvuf',\n",
       "       'Xv41AaXiVYBKFAa7SLq8F5', 'YYGGmsEaf2gP4JNN9kMprV'],\n",
       "      dtype='object')"
      ]
     },
     "execution_count": 9,
     "metadata": {},
     "output_type": "execute_result"
    }
   ],
   "source": [
    "activity.patient_id.cat.categories"
   ]
  },
  {
   "cell_type": "code",
   "execution_count": 10,
   "metadata": {},
   "outputs": [
    {
     "data": {
      "text/plain": [
       "<AxesSubplot:>"
      ]
     },
     "execution_count": 10,
     "metadata": {},
     "output_type": "execute_result"
    },
    {
     "data": {
      "image/png": "[encoded data removed]",
      "text/plain": [
       "<Figure size 432x288 with 1 Axes>"
      ]
     },
     "metadata": {
      "needs_background": "light"
     },
     "output_type": "display_data"
    }
   ],
   "source": [
    "activity.location_name.value_counts().plot.barh()"
   ]
  },
  {
   "cell_type": "markdown",
   "metadata": {},
   "source": [
    "The first step is to eliminate unique locations only in a few houses and combine contextually similar locations. This will make it easier to generalise our findings across all homes."
   ]
  },
  {
   "cell_type": "code",
   "execution_count": 11,
   "metadata": {},
   "outputs": [
    {
     "data": {
      "text/html": [
       "<div>\n",
       "<style scoped>\n",
       "    .dataframe tbody tr th:only-of-type {\n",
       "        vertical-align: middle;\n",
       "    }\n",
       "\n",
       "    .dataframe tbody tr th {\n",
       "        vertical-align: top;\n",
       "    }\n",
       "\n",
       "    .dataframe thead th {\n",
       "        text-align: right;\n",
       "    }\n",
       "</style>\n",
       "<table border=\"1\" class=\"dataframe\">\n",
       "  <thead>\n",
       "    <tr style=\"text-align: right;\">\n",
       "      <th>patient_id</th>\n",
       "      <th>2GN1PHeHwRzNYQ7q4Nvg7g</th>\n",
       "      <th>2zbyXzYNKPwiPtjaA2L64o</th>\n",
       "      <th>3hY7Mp7u9YPo1xMARSxLhc</th>\n",
       "      <th>4h1dAuzg9rdrhyojwxUS26</th>\n",
       "      <th>64RLyRh1fEUutdhMnvu17d</th>\n",
       "      <th>6xrbQMkh12eYMdP7Xi1ggc</th>\n",
       "      <th>82jgn4MkSPaYsQZX92n9kC</th>\n",
       "      <th>8MzeY8ZePeGa6kFKJpXoMm</th>\n",
       "      <th>965K58vYarXQTZEgss6HzT</th>\n",
       "      <th>9HYuS1aHmCBXidcwGhZBTm</th>\n",
       "      <th>...</th>\n",
       "      <th>TwiUT1L1KSVnRdBuEywxfh</th>\n",
       "      <th>U2dZSjjycMm5bRNvHcLrAr</th>\n",
       "      <th>V4H3rTBaezHnbXufvjFQmM</th>\n",
       "      <th>VmrLbcBzyzacPx8WBnnttf</th>\n",
       "      <th>WSdj9TjJMT4oqpdMvMDsgg</th>\n",
       "      <th>WtYLx1dEr6hHgQDg8TKcGP</th>\n",
       "      <th>X7dJAZjrhEa1kRFUkoZVvg</th>\n",
       "      <th>XsfBVz6GP7XtvhY4CiAvuf</th>\n",
       "      <th>Xv41AaXiVYBKFAa7SLq8F5</th>\n",
       "      <th>YYGGmsEaf2gP4JNN9kMprV</th>\n",
       "    </tr>\n",
       "    <tr>\n",
       "      <th>location_name</th>\n",
       "      <th></th>\n",
       "      <th></th>\n",
       "      <th></th>\n",
       "      <th></th>\n",
       "      <th></th>\n",
       "      <th></th>\n",
       "      <th></th>\n",
       "      <th></th>\n",
       "      <th></th>\n",
       "      <th></th>\n",
       "      <th></th>\n",
       "      <th></th>\n",
       "      <th></th>\n",
       "      <th></th>\n",
       "      <th></th>\n",
       "      <th></th>\n",
       "      <th></th>\n",
       "      <th></th>\n",
       "      <th></th>\n",
       "      <th></th>\n",
       "      <th></th>\n",
       "    </tr>\n",
       "  </thead>\n",
       "  <tbody>\n",
       "    <tr>\n",
       "      <th>WC1</th>\n",
       "      <td>0</td>\n",
       "      <td>0</td>\n",
       "      <td>0</td>\n",
       "      <td>0</td>\n",
       "      <td>0</td>\n",
       "      <td>0</td>\n",
       "      <td>0</td>\n",
       "      <td>0</td>\n",
       "      <td>0</td>\n",
       "      <td>0</td>\n",
       "      <td>...</td>\n",
       "      <td>0</td>\n",
       "      <td>166</td>\n",
       "      <td>500</td>\n",
       "      <td>0</td>\n",
       "      <td>0</td>\n",
       "      <td>0</td>\n",
       "      <td>0</td>\n",
       "      <td>0</td>\n",
       "      <td>0</td>\n",
       "      <td>0</td>\n",
       "    </tr>\n",
       "    <tr>\n",
       "      <th>bathroom1</th>\n",
       "      <td>604</td>\n",
       "      <td>1039</td>\n",
       "      <td>768</td>\n",
       "      <td>851</td>\n",
       "      <td>975</td>\n",
       "      <td>1616</td>\n",
       "      <td>660</td>\n",
       "      <td>446</td>\n",
       "      <td>1140</td>\n",
       "      <td>58</td>\n",
       "      <td>...</td>\n",
       "      <td>483</td>\n",
       "      <td>448</td>\n",
       "      <td>439</td>\n",
       "      <td>532</td>\n",
       "      <td>669</td>\n",
       "      <td>516</td>\n",
       "      <td>782</td>\n",
       "      <td>0</td>\n",
       "      <td>407</td>\n",
       "      <td>2328</td>\n",
       "    </tr>\n",
       "    <tr>\n",
       "      <th>bedroom1</th>\n",
       "      <td>1418</td>\n",
       "      <td>1180</td>\n",
       "      <td>1003</td>\n",
       "      <td>345</td>\n",
       "      <td>1167</td>\n",
       "      <td>2724</td>\n",
       "      <td>801</td>\n",
       "      <td>1300</td>\n",
       "      <td>1015</td>\n",
       "      <td>485</td>\n",
       "      <td>...</td>\n",
       "      <td>2553</td>\n",
       "      <td>2247</td>\n",
       "      <td>1183</td>\n",
       "      <td>969</td>\n",
       "      <td>1566</td>\n",
       "      <td>1962</td>\n",
       "      <td>777</td>\n",
       "      <td>1151</td>\n",
       "      <td>1248</td>\n",
       "      <td>881</td>\n",
       "    </tr>\n",
       "    <tr>\n",
       "      <th>conservatory</th>\n",
       "      <td>0</td>\n",
       "      <td>0</td>\n",
       "      <td>0</td>\n",
       "      <td>0</td>\n",
       "      <td>0</td>\n",
       "      <td>0</td>\n",
       "      <td>0</td>\n",
       "      <td>0</td>\n",
       "      <td>0</td>\n",
       "      <td>0</td>\n",
       "      <td>...</td>\n",
       "      <td>0</td>\n",
       "      <td>0</td>\n",
       "      <td>1833</td>\n",
       "      <td>0</td>\n",
       "      <td>0</td>\n",
       "      <td>0</td>\n",
       "      <td>0</td>\n",
       "      <td>0</td>\n",
       "      <td>0</td>\n",
       "      <td>0</td>\n",
       "    </tr>\n",
       "    <tr>\n",
       "      <th>corridor1</th>\n",
       "      <td>0</td>\n",
       "      <td>0</td>\n",
       "      <td>0</td>\n",
       "      <td>0</td>\n",
       "      <td>0</td>\n",
       "      <td>0</td>\n",
       "      <td>0</td>\n",
       "      <td>0</td>\n",
       "      <td>741</td>\n",
       "      <td>0</td>\n",
       "      <td>...</td>\n",
       "      <td>0</td>\n",
       "      <td>0</td>\n",
       "      <td>0</td>\n",
       "      <td>0</td>\n",
       "      <td>0</td>\n",
       "      <td>0</td>\n",
       "      <td>0</td>\n",
       "      <td>0</td>\n",
       "      <td>0</td>\n",
       "      <td>0</td>\n",
       "    </tr>\n",
       "    <tr>\n",
       "      <th>dining room</th>\n",
       "      <td>0</td>\n",
       "      <td>0</td>\n",
       "      <td>2974</td>\n",
       "      <td>0</td>\n",
       "      <td>0</td>\n",
       "      <td>0</td>\n",
       "      <td>0</td>\n",
       "      <td>0</td>\n",
       "      <td>0</td>\n",
       "      <td>0</td>\n",
       "      <td>...</td>\n",
       "      <td>0</td>\n",
       "      <td>220</td>\n",
       "      <td>0</td>\n",
       "      <td>0</td>\n",
       "      <td>0</td>\n",
       "      <td>609</td>\n",
       "      <td>0</td>\n",
       "      <td>0</td>\n",
       "      <td>0</td>\n",
       "      <td>0</td>\n",
       "    </tr>\n",
       "    <tr>\n",
       "      <th>hallway</th>\n",
       "      <td>834</td>\n",
       "      <td>2190</td>\n",
       "      <td>0</td>\n",
       "      <td>844</td>\n",
       "      <td>1289</td>\n",
       "      <td>4517</td>\n",
       "      <td>1971</td>\n",
       "      <td>1838</td>\n",
       "      <td>1836</td>\n",
       "      <td>1241</td>\n",
       "      <td>...</td>\n",
       "      <td>1368</td>\n",
       "      <td>3083</td>\n",
       "      <td>1478</td>\n",
       "      <td>1701</td>\n",
       "      <td>1062</td>\n",
       "      <td>2517</td>\n",
       "      <td>3529</td>\n",
       "      <td>245</td>\n",
       "      <td>860</td>\n",
       "      <td>539</td>\n",
       "    </tr>\n",
       "    <tr>\n",
       "      <th>kitchen</th>\n",
       "      <td>1186</td>\n",
       "      <td>3359</td>\n",
       "      <td>2820</td>\n",
       "      <td>1754</td>\n",
       "      <td>2392</td>\n",
       "      <td>4020</td>\n",
       "      <td>1901</td>\n",
       "      <td>2291</td>\n",
       "      <td>3040</td>\n",
       "      <td>1811</td>\n",
       "      <td>...</td>\n",
       "      <td>1681</td>\n",
       "      <td>2468</td>\n",
       "      <td>3086</td>\n",
       "      <td>4783</td>\n",
       "      <td>3994</td>\n",
       "      <td>2977</td>\n",
       "      <td>2496</td>\n",
       "      <td>2850</td>\n",
       "      <td>1308</td>\n",
       "      <td>3033</td>\n",
       "    </tr>\n",
       "    <tr>\n",
       "      <th>living room</th>\n",
       "      <td>0</td>\n",
       "      <td>0</td>\n",
       "      <td>0</td>\n",
       "      <td>0</td>\n",
       "      <td>0</td>\n",
       "      <td>0</td>\n",
       "      <td>0</td>\n",
       "      <td>0</td>\n",
       "      <td>0</td>\n",
       "      <td>0</td>\n",
       "      <td>...</td>\n",
       "      <td>0</td>\n",
       "      <td>0</td>\n",
       "      <td>0</td>\n",
       "      <td>0</td>\n",
       "      <td>0</td>\n",
       "      <td>0</td>\n",
       "      <td>0</td>\n",
       "      <td>0</td>\n",
       "      <td>2395</td>\n",
       "      <td>0</td>\n",
       "    </tr>\n",
       "    <tr>\n",
       "      <th>lounge</th>\n",
       "      <td>1278</td>\n",
       "      <td>1608</td>\n",
       "      <td>1020</td>\n",
       "      <td>3059</td>\n",
       "      <td>1597</td>\n",
       "      <td>3557</td>\n",
       "      <td>1579</td>\n",
       "      <td>2511</td>\n",
       "      <td>672</td>\n",
       "      <td>2057</td>\n",
       "      <td>...</td>\n",
       "      <td>1004</td>\n",
       "      <td>1142</td>\n",
       "      <td>3578</td>\n",
       "      <td>4500</td>\n",
       "      <td>1733</td>\n",
       "      <td>3390</td>\n",
       "      <td>2809</td>\n",
       "      <td>490</td>\n",
       "      <td>0</td>\n",
       "      <td>1680</td>\n",
       "    </tr>\n",
       "    <tr>\n",
       "      <th>office</th>\n",
       "      <td>0</td>\n",
       "      <td>0</td>\n",
       "      <td>0</td>\n",
       "      <td>0</td>\n",
       "      <td>0</td>\n",
       "      <td>0</td>\n",
       "      <td>0</td>\n",
       "      <td>0</td>\n",
       "      <td>564</td>\n",
       "      <td>0</td>\n",
       "      <td>...</td>\n",
       "      <td>0</td>\n",
       "      <td>0</td>\n",
       "      <td>0</td>\n",
       "      <td>0</td>\n",
       "      <td>0</td>\n",
       "      <td>0</td>\n",
       "      <td>0</td>\n",
       "      <td>0</td>\n",
       "      <td>0</td>\n",
       "      <td>0</td>\n",
       "    </tr>\n",
       "    <tr>\n",
       "      <th>study</th>\n",
       "      <td>0</td>\n",
       "      <td>388</td>\n",
       "      <td>0</td>\n",
       "      <td>0</td>\n",
       "      <td>0</td>\n",
       "      <td>0</td>\n",
       "      <td>0</td>\n",
       "      <td>0</td>\n",
       "      <td>0</td>\n",
       "      <td>0</td>\n",
       "      <td>...</td>\n",
       "      <td>0</td>\n",
       "      <td>367</td>\n",
       "      <td>0</td>\n",
       "      <td>0</td>\n",
       "      <td>0</td>\n",
       "      <td>0</td>\n",
       "      <td>0</td>\n",
       "      <td>0</td>\n",
       "      <td>0</td>\n",
       "      <td>0</td>\n",
       "    </tr>\n",
       "  </tbody>\n",
       "</table>\n",
       "<p>12 rows × 56 columns</p>\n",
       "</div>"
      ],
      "text/plain": [
       "patient_id     2GN1PHeHwRzNYQ7q4Nvg7g  2zbyXzYNKPwiPtjaA2L64o  \\\n",
       "location_name                                                   \n",
       "WC1                                 0                       0   \n",
       "bathroom1                         604                    1039   \n",
       "bedroom1                         1418                    1180   \n",
       "conservatory                        0                       0   \n",
       "corridor1                           0                       0   \n",
       "dining room                         0                       0   \n",
       "hallway                           834                    2190   \n",
       "kitchen                          1186                    3359   \n",
       "living room                         0                       0   \n",
       "lounge                           1278                    1608   \n",
       "office                              0                       0   \n",
       "study                               0                     388   \n",
       "\n",
       "patient_id     3hY7Mp7u9YPo1xMARSxLhc  4h1dAuzg9rdrhyojwxUS26  \\\n",
       "location_name                                                   \n",
       "WC1                                 0                       0   \n",
       "bathroom1                         768                     851   \n",
       "bedroom1                         1003                     345   \n",
       "conservatory                        0                       0   \n",
       "corridor1                           0                       0   \n",
       "dining room                      2974                       0   \n",
       "hallway                             0                     844   \n",
       "kitchen                          2820                    1754   \n",
       "living room                         0                       0   \n",
       "lounge                           1020                    3059   \n",
       "office                              0                       0   \n",
       "study                               0                       0   \n",
       "\n",
       "patient_id     64RLyRh1fEUutdhMnvu17d  6xrbQMkh12eYMdP7Xi1ggc  \\\n",
       "location_name                                                   \n",
       "WC1                                 0                       0   \n",
       "bathroom1                         975                    1616   \n",
       "bedroom1                         1167                    2724   \n",
       "conservatory                        0                       0   \n",
       "corridor1                           0                       0   \n",
       "dining room                         0                       0   \n",
       "hallway                          1289                    4517   \n",
       "kitchen                          2392                    4020   \n",
       "living room                         0                       0   \n",
       "lounge                           1597                    3557   \n",
       "office                              0                       0   \n",
       "study                               0                       0   \n",
       "\n",
       "patient_id     82jgn4MkSPaYsQZX92n9kC  8MzeY8ZePeGa6kFKJpXoMm  \\\n",
       "location_name                                                   \n",
       "WC1                                 0                       0   \n",
       "bathroom1                         660                     446   \n",
       "bedroom1                          801                    1300   \n",
       "conservatory                        0                       0   \n",
       "corridor1                           0                       0   \n",
       "dining room                         0                       0   \n",
       "hallway                          1971                    1838   \n",
       "kitchen                          1901                    2291   \n",
       "living room                         0                       0   \n",
       "lounge                           1579                    2511   \n",
       "office                              0                       0   \n",
       "study                               0                       0   \n",
       "\n",
       "patient_id     965K58vYarXQTZEgss6HzT  9HYuS1aHmCBXidcwGhZBTm  ...  \\\n",
       "location_name                                                  ...   \n",
       "WC1                                 0                       0  ...   \n",
       "bathroom1                        1140                      58  ...   \n",
       "bedroom1                         1015                     485  ...   \n",
       "conservatory                        0                       0  ...   \n",
       "corridor1                         741                       0  ...   \n",
       "dining room                         0                       0  ...   \n",
       "hallway                          1836                    1241  ...   \n",
       "kitchen                          3040                    1811  ...   \n",
       "living room                         0                       0  ...   \n",
       "lounge                            672                    2057  ...   \n",
       "office                            564                       0  ...   \n",
       "study                               0                       0  ...   \n",
       "\n",
       "patient_id     TwiUT1L1KSVnRdBuEywxfh  U2dZSjjycMm5bRNvHcLrAr  \\\n",
       "location_name                                                   \n",
       "WC1                                 0                     166   \n",
       "bathroom1                         483                     448   \n",
       "bedroom1                         2553                    2247   \n",
       "conservatory                        0                       0   \n",
       "corridor1                           0                       0   \n",
       "dining room                         0                     220   \n",
       "hallway                          1368                    3083   \n",
       "kitchen                          1681                    2468   \n",
       "living room                         0                       0   \n",
       "lounge                           1004                    1142   \n",
       "office                              0                       0   \n",
       "study                               0                     367   \n",
       "\n",
       "patient_id     V4H3rTBaezHnbXufvjFQmM  VmrLbcBzyzacPx8WBnnttf  \\\n",
       "location_name                                                   \n",
       "WC1                               500                       0   \n",
       "bathroom1                         439                     532   \n",
       "bedroom1                         1183                     969   \n",
       "conservatory                     1833                       0   \n",
       "corridor1                           0                       0   \n",
       "dining room                         0                       0   \n",
       "hallway                          1478                    1701   \n",
       "kitchen                          3086                    4783   \n",
       "living room                         0                       0   \n",
       "lounge                           3578                    4500   \n",
       "office                              0                       0   \n",
       "study                               0                       0   \n",
       "\n",
       "patient_id     WSdj9TjJMT4oqpdMvMDsgg  WtYLx1dEr6hHgQDg8TKcGP  \\\n",
       "location_name                                                   \n",
       "WC1                                 0                       0   \n",
       "bathroom1                         669                     516   \n",
       "bedroom1                         1566                    1962   \n",
       "conservatory                        0                       0   \n",
       "corridor1                           0                       0   \n",
       "dining room                         0                     609   \n",
       "hallway                          1062                    2517   \n",
       "kitchen                          3994                    2977   \n",
       "living room                         0                       0   \n",
       "lounge                           1733                    3390   \n",
       "office                              0                       0   \n",
       "study                               0                       0   \n",
       "\n",
       "patient_id     X7dJAZjrhEa1kRFUkoZVvg  XsfBVz6GP7XtvhY4CiAvuf  \\\n",
       "location_name                                                   \n",
       "WC1                                 0                       0   \n",
       "bathroom1                         782                       0   \n",
       "bedroom1                          777                    1151   \n",
       "conservatory                        0                       0   \n",
       "corridor1                           0                       0   \n",
       "dining room                         0                       0   \n",
       "hallway                          3529                     245   \n",
       "kitchen                          2496                    2850   \n",
       "living room                         0                       0   \n",
       "lounge                           2809                     490   \n",
       "office                              0                       0   \n",
       "study                               0                       0   \n",
       "\n",
       "patient_id     Xv41AaXiVYBKFAa7SLq8F5  YYGGmsEaf2gP4JNN9kMprV  \n",
       "location_name                                                  \n",
       "WC1                                 0                       0  \n",
       "bathroom1                         407                    2328  \n",
       "bedroom1                         1248                     881  \n",
       "conservatory                        0                       0  \n",
       "corridor1                           0                       0  \n",
       "dining room                         0                       0  \n",
       "hallway                           860                     539  \n",
       "kitchen                          1308                    3033  \n",
       "living room                      2395                       0  \n",
       "lounge                              0                    1680  \n",
       "office                              0                       0  \n",
       "study                               0                       0  \n",
       "\n",
       "[12 rows x 56 columns]"
      ]
     },
     "execution_count": 11,
     "metadata": {},
     "output_type": "execute_result"
    }
   ],
   "source": [
    "location_by_pid =  pd.crosstab(activity.location_name,activity.patient_id)\n",
    "location_by_pid"
   ]
  },
  {
   "cell_type": "code",
   "execution_count": 12,
   "metadata": {},
   "outputs": [
    {
     "data": {
      "image/png": "[encoded data removed]",
      "text/plain": [
       "<Figure size 432x288 with 1 Axes>"
      ]
     },
     "metadata": {
      "needs_background": "light"
     },
     "output_type": "display_data"
    }
   ],
   "source": [
    "ax = sns.heatmap(location_by_pid>0,cbar=False)\n",
    "ax.tick_params(left=False, bottom=False)\n",
    "ax.set_xticklabels([]);"
   ]
  },
  {
   "cell_type": "markdown",
   "metadata": {},
   "source": [
    "A simple interpretation of the above plot can be to do the following cleaning tasks: \n",
    "- filter the cellar and the conservatory, \n",
    "- merge WC1 and bathroom1 \n",
    "- merge study and office\n",
    "- merge the lounge, dining room and living room\n",
    "- merge the corridor and hallway \n",
    "\n",
    "Let's see an example of how to do this using pandas \n"
   ]
  },
  {
   "cell_type": "code",
   "execution_count": 13,
   "metadata": {},
   "outputs": [
    {
     "data": {
      "text/plain": [
       "['bedroom1', 'hallway', 'lounge', 'bathroom1', 'kitchen', ..., 'study', 'WC1', 'dining room', 'office', 'corridor1']\n",
       "Length: 11\n",
       "Categories (12, object): ['WC1', 'bathroom1', 'bedroom1', 'conservatory', ..., 'living room', 'lounge', 'office', 'study']"
      ]
     },
     "execution_count": 13,
     "metadata": {},
     "output_type": "execute_result"
    }
   ],
   "source": [
    "mask = ~activity.location_name.isin(['cellar','conservatory'])\n",
    "activity = activity[mask]\n",
    "activity.location_name.unique()"
   ]
  },
  {
   "cell_type": "markdown",
   "metadata": {},
   "source": [
    "There are many ways to remap one value into another value in Python. However, in the process of transparency, interpretability and ease of change, I find the dictionary approach shown below to be the simplest to foolow and implement. "
   ]
  },
  {
   "cell_type": "code",
   "execution_count": 14,
   "metadata": {},
   "outputs": [
    {
     "data": {
      "text/plain": [
       "array(['bedroom', 'hallway', 'lounge', 'bathroom', 'kitchen', 'study'],\n",
       "      dtype=object)"
      ]
     },
     "execution_count": 14,
     "metadata": {},
     "output_type": "execute_result"
    }
   ],
   "source": [
    "mapping = {\n",
    "    'bedroom1':'bedroom', \n",
    "    'bathroom1':'bathroom', \n",
    "    'hallway':'hallway', \n",
    "    'lounge':'lounge', \n",
    "    'kitchen':'kitchen',\n",
    "    'living room':'lounge', \n",
    "    'corridor1':'hallway', \n",
    "    'dining room':'lounge', \n",
    "    'WC1':'bathroom', \n",
    "    'study':'study',\n",
    "    'office':'study'}\n",
    "activity.location_name = activity.location_name.map(mapping)\n",
    "activity.location_name.unique()"
   ]
  },
  {
   "cell_type": "markdown",
   "metadata": {},
   "source": [
    "Revisiting the plots we used before is a useful sanity check to validate that the changes we made we applied. "
   ]
  },
  {
   "cell_type": "code",
   "execution_count": 15,
   "metadata": {},
   "outputs": [
    {
     "data": {
      "text/plain": [
       "<AxesSubplot:>"
      ]
     },
     "execution_count": 15,
     "metadata": {},
     "output_type": "execute_result"
    },
    {
     "data": {
      "image/png": "[encoded data removed]",
      "text/plain": [
       "<Figure size 432x288 with 1 Axes>"
      ]
     },
     "metadata": {
      "needs_background": "light"
     },
     "output_type": "display_data"
    }
   ],
   "source": [
    "activity.location_name.value_counts().plot.barh()"
   ]
  },
  {
   "cell_type": "code",
   "execution_count": 16,
   "metadata": {},
   "outputs": [
    {
     "data": {
      "image/png": "[encoded data removed]",
      "text/plain": [
       "<Figure size 432x288 with 1 Axes>"
      ]
     },
     "metadata": {
      "needs_background": "light"
     },
     "output_type": "display_data"
    }
   ],
   "source": [
    "ax = sns.heatmap(pd.crosstab(activity.location_name,activity.patient_id)>0,cbar=False)\n",
    "ax.tick_params(left=False, bottom=False)\n",
    "ax.set_xticklabels([]);"
   ]
  },
  {
   "cell_type": "markdown",
   "metadata": {},
   "source": [
    "After cleaning the location_name we can select just columns of intrest by passing a list of columns names to the DataFrame. "
   ]
  },
  {
   "cell_type": "code",
   "execution_count": 17,
   "metadata": {},
   "outputs": [
    {
     "data": {
      "text/html": [
       "<div>\n",
       "<style scoped>\n",
       "    .dataframe tbody tr th:only-of-type {\n",
       "        vertical-align: middle;\n",
       "    }\n",
       "\n",
       "    .dataframe tbody tr th {\n",
       "        vertical-align: top;\n",
       "    }\n",
       "\n",
       "    .dataframe thead th {\n",
       "        text-align: right;\n",
       "    }\n",
       "</style>\n",
       "<table border=\"1\" class=\"dataframe\">\n",
       "  <thead>\n",
       "    <tr style=\"text-align: right;\">\n",
       "      <th></th>\n",
       "      <th>start_date</th>\n",
       "      <th>patient_id</th>\n",
       "      <th>location_name</th>\n",
       "    </tr>\n",
       "  </thead>\n",
       "  <tbody>\n",
       "    <tr>\n",
       "      <th>0</th>\n",
       "      <td>2022-02-01 00:00:01</td>\n",
       "      <td>BqG6BCSqzJzxsiKHuMcrqr</td>\n",
       "      <td>bedroom</td>\n",
       "    </tr>\n",
       "    <tr>\n",
       "      <th>1</th>\n",
       "      <td>2022-02-01 00:00:05</td>\n",
       "      <td>PtSJCv5bDWvZe3f1V7wRgQ</td>\n",
       "      <td>hallway</td>\n",
       "    </tr>\n",
       "    <tr>\n",
       "      <th>2</th>\n",
       "      <td>2022-02-01 00:00:06</td>\n",
       "      <td>PtSJCv5bDWvZe3f1V7wRgQ</td>\n",
       "      <td>lounge</td>\n",
       "    </tr>\n",
       "    <tr>\n",
       "      <th>3</th>\n",
       "      <td>2022-02-01 00:00:09</td>\n",
       "      <td>TDYFcFDBmhxGymqBtvKnqV</td>\n",
       "      <td>bedroom</td>\n",
       "    </tr>\n",
       "    <tr>\n",
       "      <th>4</th>\n",
       "      <td>2022-02-01 00:00:11</td>\n",
       "      <td>V4H3rTBaezHnbXufvjFQmM</td>\n",
       "      <td>lounge</td>\n",
       "    </tr>\n",
       "    <tr>\n",
       "      <th>...</th>\n",
       "      <td>...</td>\n",
       "      <td>...</td>\n",
       "      <td>...</td>\n",
       "    </tr>\n",
       "    <tr>\n",
       "      <th>453927</th>\n",
       "      <td>2022-02-19 23:59:06</td>\n",
       "      <td>8MzeY8ZePeGa6kFKJpXoMm</td>\n",
       "      <td>lounge</td>\n",
       "    </tr>\n",
       "    <tr>\n",
       "      <th>453928</th>\n",
       "      <td>2022-02-19 23:59:21</td>\n",
       "      <td>TwiUT1L1KSVnRdBuEywxfh</td>\n",
       "      <td>bedroom</td>\n",
       "    </tr>\n",
       "    <tr>\n",
       "      <th>453929</th>\n",
       "      <td>2022-02-19 23:59:24</td>\n",
       "      <td>8MzeY8ZePeGa6kFKJpXoMm</td>\n",
       "      <td>kitchen</td>\n",
       "    </tr>\n",
       "    <tr>\n",
       "      <th>453930</th>\n",
       "      <td>2022-02-19 23:59:38</td>\n",
       "      <td>9HYuS1aHmCBXidcwGhZBTm</td>\n",
       "      <td>bedroom</td>\n",
       "    </tr>\n",
       "    <tr>\n",
       "      <th>453931</th>\n",
       "      <td>2022-02-19 23:59:49</td>\n",
       "      <td>9HYuS1aHmCBXidcwGhZBTm</td>\n",
       "      <td>hallway</td>\n",
       "    </tr>\n",
       "  </tbody>\n",
       "</table>\n",
       "<p>451829 rows × 3 columns</p>\n",
       "</div>"
      ],
      "text/plain": [
       "                start_date              patient_id location_name\n",
       "0      2022-02-01 00:00:01  BqG6BCSqzJzxsiKHuMcrqr       bedroom\n",
       "1      2022-02-01 00:00:05  PtSJCv5bDWvZe3f1V7wRgQ       hallway\n",
       "2      2022-02-01 00:00:06  PtSJCv5bDWvZe3f1V7wRgQ        lounge\n",
       "3      2022-02-01 00:00:09  TDYFcFDBmhxGymqBtvKnqV       bedroom\n",
       "4      2022-02-01 00:00:11  V4H3rTBaezHnbXufvjFQmM        lounge\n",
       "...                    ...                     ...           ...\n",
       "453927 2022-02-19 23:59:06  8MzeY8ZePeGa6kFKJpXoMm        lounge\n",
       "453928 2022-02-19 23:59:21  TwiUT1L1KSVnRdBuEywxfh       bedroom\n",
       "453929 2022-02-19 23:59:24  8MzeY8ZePeGa6kFKJpXoMm       kitchen\n",
       "453930 2022-02-19 23:59:38  9HYuS1aHmCBXidcwGhZBTm       bedroom\n",
       "453931 2022-02-19 23:59:49  9HYuS1aHmCBXidcwGhZBTm       hallway\n",
       "\n",
       "[451829 rows x 3 columns]"
      ]
     },
     "execution_count": 17,
     "metadata": {},
     "output_type": "execute_result"
    }
   ],
   "source": [
    "activity[['start_date','patient_id','location_name']]"
   ]
  },
  {
   "cell_type": "markdown",
   "metadata": {},
   "source": [
    "Now, let's say we decide to merge the study with the lounge location, all we need to run the entire process again and update the mapping dictionary.  "
   ]
  },
  {
   "cell_type": "code",
   "execution_count": 19,
   "metadata": {},
   "outputs": [
    {
     "name": "stdout",
     "output_type": "stream",
     "text": [
      "Finished Loading activity in:                  0.1 seconds   \n",
      "Finished Loading Activity in:                  0.1 seconds   \n"
     ]
    },
    {
     "data": {
      "text/plain": [
       "array(['bedroom', 'hallway', 'lounge', 'bathroom', 'kitchen'],\n",
       "      dtype=object)"
      ]
     },
     "execution_count": 19,
     "metadata": {},
     "output_type": "execute_result"
    }
   ],
   "source": [
    "activity = dcarte.load('Activity','raw',since='2022-02-01',until='2022-02-20',reload=False)\n",
    "mask = ~activity.location_name.isin(['cellar','conservatory'])\n",
    "activity = activity[mask]\n",
    "mapping = {\n",
    "    'bedroom1':'bedroom', \n",
    "    'bathroom1':'bathroom', \n",
    "    'hallway':'hallway', \n",
    "    'lounge':'lounge', \n",
    "    'kitchen':'kitchen',\n",
    "    'living room':'lounge', \n",
    "    'corridor1':'hallway', \n",
    "    'dining room':'lounge', \n",
    "    'WC1':'bathroom', \n",
    "    'study':'lounge',\n",
    "    'office':'lounge'}\n",
    "activity.location_name = activity.location_name.map(mapping)\n",
    "activity.location_name.unique()"
   ]
  },
  {
   "cell_type": "markdown",
   "metadata": {},
   "source": [
    "In the end, we now have a single dataset in which the majority of households are similar and there are very few homes with missing locations."
   ]
  },
  {
   "cell_type": "code",
   "execution_count": 20,
   "metadata": {},
   "outputs": [
    {
     "data": {
      "image/png": "[encoded data removed]",
      "text/plain": [
       "<Figure size 720x216 with 2 Axes>"
      ]
     },
     "metadata": {
      "needs_background": "light"
     },
     "output_type": "display_data"
    }
   ],
   "source": [
    "df = pd.crosstab(activity.location_name,activity.patient_id)\n",
    "from matplotlib.colors import LogNorm\n",
    "import matplotlib.pyplot as plt \n",
    "fig, ax = plt.subplots(figsize=(10,3))\n",
    "sns.heatmap(df,  norm=LogNorm(),ax=ax)\n",
    "ax.tick_params(left=False, bottom=False)\n",
    "ax.set_xticklabels([]);"
   ]
  },
  {
   "cell_type": "markdown",
   "metadata": {},
   "source": [
    "Converting this dataset to a wide one-hot encoding format where time and patient ids are the indexes and the different locations are the columns requires calling a pandas function called `pd.get_dummies`."
   ]
  },
  {
   "cell_type": "code",
   "execution_count": 21,
   "metadata": {},
   "outputs": [
    {
     "data": {
      "text/html": [
       "<div>\n",
       "<style scoped>\n",
       "    .dataframe tbody tr th:only-of-type {\n",
       "        vertical-align: middle;\n",
       "    }\n",
       "\n",
       "    .dataframe tbody tr th {\n",
       "        vertical-align: top;\n",
       "    }\n",
       "\n",
       "    .dataframe thead th {\n",
       "        text-align: right;\n",
       "    }\n",
       "</style>\n",
       "<table border=\"1\" class=\"dataframe\">\n",
       "  <thead>\n",
       "    <tr style=\"text-align: right;\">\n",
       "      <th></th>\n",
       "      <th></th>\n",
       "      <th>bathroom</th>\n",
       "      <th>bedroom</th>\n",
       "      <th>hallway</th>\n",
       "      <th>kitchen</th>\n",
       "      <th>lounge</th>\n",
       "    </tr>\n",
       "    <tr>\n",
       "      <th>patient_id</th>\n",
       "      <th>start_date</th>\n",
       "      <th></th>\n",
       "      <th></th>\n",
       "      <th></th>\n",
       "      <th></th>\n",
       "      <th></th>\n",
       "    </tr>\n",
       "  </thead>\n",
       "  <tbody>\n",
       "    <tr>\n",
       "      <th>BqG6BCSqzJzxsiKHuMcrqr</th>\n",
       "      <th>2022-02-01 00:00:01</th>\n",
       "      <td>0</td>\n",
       "      <td>1</td>\n",
       "      <td>0</td>\n",
       "      <td>0</td>\n",
       "      <td>0</td>\n",
       "    </tr>\n",
       "    <tr>\n",
       "      <th rowspan=\"2\" valign=\"top\">PtSJCv5bDWvZe3f1V7wRgQ</th>\n",
       "      <th>2022-02-01 00:00:05</th>\n",
       "      <td>0</td>\n",
       "      <td>0</td>\n",
       "      <td>1</td>\n",
       "      <td>0</td>\n",
       "      <td>0</td>\n",
       "    </tr>\n",
       "    <tr>\n",
       "      <th>2022-02-01 00:00:06</th>\n",
       "      <td>0</td>\n",
       "      <td>0</td>\n",
       "      <td>0</td>\n",
       "      <td>0</td>\n",
       "      <td>1</td>\n",
       "    </tr>\n",
       "    <tr>\n",
       "      <th>TDYFcFDBmhxGymqBtvKnqV</th>\n",
       "      <th>2022-02-01 00:00:09</th>\n",
       "      <td>0</td>\n",
       "      <td>1</td>\n",
       "      <td>0</td>\n",
       "      <td>0</td>\n",
       "      <td>0</td>\n",
       "    </tr>\n",
       "    <tr>\n",
       "      <th>V4H3rTBaezHnbXufvjFQmM</th>\n",
       "      <th>2022-02-01 00:00:11</th>\n",
       "      <td>0</td>\n",
       "      <td>0</td>\n",
       "      <td>0</td>\n",
       "      <td>0</td>\n",
       "      <td>1</td>\n",
       "    </tr>\n",
       "    <tr>\n",
       "      <th>...</th>\n",
       "      <th>...</th>\n",
       "      <td>...</td>\n",
       "      <td>...</td>\n",
       "      <td>...</td>\n",
       "      <td>...</td>\n",
       "      <td>...</td>\n",
       "    </tr>\n",
       "    <tr>\n",
       "      <th>8MzeY8ZePeGa6kFKJpXoMm</th>\n",
       "      <th>2022-02-19 23:59:06</th>\n",
       "      <td>0</td>\n",
       "      <td>0</td>\n",
       "      <td>0</td>\n",
       "      <td>0</td>\n",
       "      <td>1</td>\n",
       "    </tr>\n",
       "    <tr>\n",
       "      <th>TwiUT1L1KSVnRdBuEywxfh</th>\n",
       "      <th>2022-02-19 23:59:21</th>\n",
       "      <td>0</td>\n",
       "      <td>1</td>\n",
       "      <td>0</td>\n",
       "      <td>0</td>\n",
       "      <td>0</td>\n",
       "    </tr>\n",
       "    <tr>\n",
       "      <th>8MzeY8ZePeGa6kFKJpXoMm</th>\n",
       "      <th>2022-02-19 23:59:24</th>\n",
       "      <td>0</td>\n",
       "      <td>0</td>\n",
       "      <td>0</td>\n",
       "      <td>1</td>\n",
       "      <td>0</td>\n",
       "    </tr>\n",
       "    <tr>\n",
       "      <th rowspan=\"2\" valign=\"top\">9HYuS1aHmCBXidcwGhZBTm</th>\n",
       "      <th>2022-02-19 23:59:38</th>\n",
       "      <td>0</td>\n",
       "      <td>1</td>\n",
       "      <td>0</td>\n",
       "      <td>0</td>\n",
       "      <td>0</td>\n",
       "    </tr>\n",
       "    <tr>\n",
       "      <th>2022-02-19 23:59:49</th>\n",
       "      <td>0</td>\n",
       "      <td>0</td>\n",
       "      <td>1</td>\n",
       "      <td>0</td>\n",
       "      <td>0</td>\n",
       "    </tr>\n",
       "  </tbody>\n",
       "</table>\n",
       "<p>451829 rows × 5 columns</p>\n",
       "</div>"
      ],
      "text/plain": [
       "                                            bathroom  bedroom  hallway  \\\n",
       "patient_id             start_date                                        \n",
       "BqG6BCSqzJzxsiKHuMcrqr 2022-02-01 00:00:01         0        1        0   \n",
       "PtSJCv5bDWvZe3f1V7wRgQ 2022-02-01 00:00:05         0        0        1   \n",
       "                       2022-02-01 00:00:06         0        0        0   \n",
       "TDYFcFDBmhxGymqBtvKnqV 2022-02-01 00:00:09         0        1        0   \n",
       "V4H3rTBaezHnbXufvjFQmM 2022-02-01 00:00:11         0        0        0   \n",
       "...                                              ...      ...      ...   \n",
       "8MzeY8ZePeGa6kFKJpXoMm 2022-02-19 23:59:06         0        0        0   \n",
       "TwiUT1L1KSVnRdBuEywxfh 2022-02-19 23:59:21         0        1        0   \n",
       "8MzeY8ZePeGa6kFKJpXoMm 2022-02-19 23:59:24         0        0        0   \n",
       "9HYuS1aHmCBXidcwGhZBTm 2022-02-19 23:59:38         0        1        0   \n",
       "                       2022-02-19 23:59:49         0        0        1   \n",
       "\n",
       "                                            kitchen  lounge  \n",
       "patient_id             start_date                            \n",
       "BqG6BCSqzJzxsiKHuMcrqr 2022-02-01 00:00:01        0       0  \n",
       "PtSJCv5bDWvZe3f1V7wRgQ 2022-02-01 00:00:05        0       0  \n",
       "                       2022-02-01 00:00:06        0       1  \n",
       "TDYFcFDBmhxGymqBtvKnqV 2022-02-01 00:00:09        0       0  \n",
       "V4H3rTBaezHnbXufvjFQmM 2022-02-01 00:00:11        0       1  \n",
       "...                                             ...     ...  \n",
       "8MzeY8ZePeGa6kFKJpXoMm 2022-02-19 23:59:06        0       1  \n",
       "TwiUT1L1KSVnRdBuEywxfh 2022-02-19 23:59:21        0       0  \n",
       "8MzeY8ZePeGa6kFKJpXoMm 2022-02-19 23:59:24        1       0  \n",
       "9HYuS1aHmCBXidcwGhZBTm 2022-02-19 23:59:38        0       0  \n",
       "                       2022-02-19 23:59:49        0       0  \n",
       "\n",
       "[451829 rows x 5 columns]"
      ]
     },
     "execution_count": 21,
     "metadata": {},
     "output_type": "execute_result"
    }
   ],
   "source": [
    "activity = activity.set_index(['patient_id','start_date']).location_name\n",
    "activity = pd.get_dummies(activity)\n",
    "activity"
   ]
  },
  {
   "cell_type": "markdown",
   "metadata": {},
   "source": [
    "It would be helpful to formalise this process so that it does not require us to run it each time. Formalising derived datasets is another aspect of dcarte that simplifies the collaborations on different parts of data processing. Dcarte comes armed with three samples derived datasets that can be available using a simple command. Running any of the three functions listed below will add a single domain to your dcarte library. These functions will automatically download needed datasets and create the different local datasets described internally."
   ]
  },
  {
   "cell_type": "code",
   "execution_count": 14,
   "metadata": {},
   "outputs": [
    {
     "name": "stdout",
     "output_type": "stream",
     "text": [
      "Finished Loading door in:                      0.0 seconds   \n",
      "Finished Loading doors in:                     0.0 seconds   \n",
      "Finished Loading environmental in:             0.1 seconds   \n",
      "Finished Loading device_types in:              0.0 seconds   \n",
      "Finished Loading appliances in:                0.0 seconds   \n",
      "Finished Loading doors in:                     0.0 seconds   \n",
      "Finished Loading activity in:                  0.0 seconds   \n",
      "Finished Loading device_types in:              0.0 seconds   \n",
      "Finished Loading activity in:                  0.0 seconds   \n",
      "Finished Loading entryway in:                  0.0 seconds   \n",
      "Finished Loading sleep_event in:               0.1 seconds   \n",
      "Finished Loading vital_signs in:               0.0 seconds   \n",
      "Finished Loading blood_pressure in:            0.0 seconds   \n",
      "Finished Loading device_types in:              0.0 seconds   \n",
      "Finished Loading sleep_mat in:                 0.0 seconds   \n",
      "Finished Loading motion in:                    0.0 seconds   \n"
     ]
    }
   ],
   "source": [
    "from dcarte.derived import (create_base_datasets,\n",
    "                            create_weekly_profile)\n",
    "create_base_datasets()"
   ]
  },
  {
   "cell_type": "code",
   "execution_count": 15,
   "metadata": {},
   "outputs": [
    {
     "name": "stdout",
     "output_type": "stream",
     "text": [
      "Finished Loading motion in:                    0.1 seconds   \n",
      "Finished Loading activity_dailies in:          0.0 seconds   \n",
      "Finished Loading sleep in:                     0.0 seconds   \n",
      "Finished Loading sleep_dailies in:             0.0 seconds   \n",
      "Finished Loading physiology in:                0.0 seconds   \n",
      "Finished Loading physiology_dailies in:        0.0 seconds   \n",
      "Finished Loading Habitat in:                   0.1 seconds   \n",
      "Finished Loading Habitat in:                   0.1 seconds   \n"
     ]
    }
   ],
   "source": [
    "create_weekly_profile()"
   ]
  },
  {
   "cell_type": "markdown",
   "metadata": {},
   "source": [
    "When you run dcarte.domains() for the final time, you will notice that you now have a greater number of domains under your control than before. In the following section, we will go over one of these recipes in detail and show you how to create an expansion of it on your own using the material you have gained so far in this tutorial."
   ]
  },
  {
   "cell_type": "code",
   "execution_count": null,
   "metadata": {},
   "outputs": [],
   "source": [
    "dcarte.domains()"
   ]
  }
 ],
 "metadata": {
  "interpreter": {
   "hash": "b0ee27f7a97b1fdf1136c05d44d8faf8d1201229ac0bc94db93de0aa97de366a"
  },
  "kernelspec": {
   "display_name": "Python 3.8.12 ('sandbox')",
   "language": "python",
   "name": "python3"
  },
  "language_info": {
   "codemirror_mode": {
    "name": "ipython",
    "version": 3
   },
   "file_extension": ".py",
   "mimetype": "text/x-python",
   "name": "python",
   "nbconvert_exporter": "python",
   "pygments_lexer": "ipython3",
   "version": "3.8.12"
  },
  "orig_nbformat": 4
 },
 "nbformat": 4,
 "nbformat_minor": 2
}

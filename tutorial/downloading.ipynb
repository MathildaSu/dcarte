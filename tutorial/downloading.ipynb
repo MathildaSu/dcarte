{
 "cells": [
  {
   "cell_type": "code",
   "execution_count": 1,
   "metadata": {},
   "outputs": [],
   "source": [
    "import dcarte "
   ]
  },
  {
   "cell_type": "code",
   "execution_count": 2,
   "metadata": {},
   "outputs": [
    {
     "data": {
      "text/html": [
       "<div>\n",
       "<style scoped>\n",
       "    .dataframe tbody tr th:only-of-type {\n",
       "        vertical-align: middle;\n",
       "    }\n",
       "\n",
       "    .dataframe tbody tr th {\n",
       "        vertical-align: top;\n",
       "    }\n",
       "\n",
       "    .dataframe thead th {\n",
       "        text-align: right;\n",
       "    }\n",
       "</style>\n",
       "<table border=\"1\" class=\"dataframe\">\n",
       "  <thead>\n",
       "    <tr style=\"text-align: right;\">\n",
       "      <th></th>\n",
       "      <th>RAW</th>\n",
       "      <th>BASE</th>\n",
       "      <th>LEGACY</th>\n",
       "      <th>PROFILE</th>\n",
       "      <th>SLEEP_STUDY</th>\n",
       "      <th>LOOKUP</th>\n",
       "      <th>BED_HABITS</th>\n",
       "    </tr>\n",
       "  </thead>\n",
       "  <tbody>\n",
       "    <tr>\n",
       "      <th>0</th>\n",
       "      <td>Activity</td>\n",
       "      <td>Bed_Occupancy</td>\n",
       "      <td>Device_Type</td>\n",
       "      <td>Activity_Dailies</td>\n",
       "      <td>Diurnal</td>\n",
       "      <td>Device_Types</td>\n",
       "      <td>Bed_Occupancy</td>\n",
       "    </tr>\n",
       "    <tr>\n",
       "      <th>1</th>\n",
       "      <td>Appliances</td>\n",
       "      <td>Doors</td>\n",
       "      <td>Doors</td>\n",
       "      <td>Activity_Weeklies</td>\n",
       "      <td>Nocturnal</td>\n",
       "      <td>Homes</td>\n",
       "      <td></td>\n",
       "    </tr>\n",
       "    <tr>\n",
       "      <th>2</th>\n",
       "      <td>Behavioural</td>\n",
       "      <td>Entryway</td>\n",
       "      <td>Entryway</td>\n",
       "      <td>Light</td>\n",
       "      <td>Withings_Nights</td>\n",
       "      <td>Patients</td>\n",
       "      <td></td>\n",
       "    </tr>\n",
       "    <tr>\n",
       "      <th>3</th>\n",
       "      <td>Blood_Pressure</td>\n",
       "      <td>Habitat</td>\n",
       "      <td>Flags</td>\n",
       "      <td>Physiology_Dailies</td>\n",
       "      <td>Withings_Tidy</td>\n",
       "      <td></td>\n",
       "      <td></td>\n",
       "    </tr>\n",
       "    <tr>\n",
       "      <th>4</th>\n",
       "      <td>Door</td>\n",
       "      <td>Kitchen</td>\n",
       "      <td>Light</td>\n",
       "      <td>Physiology_Weeklies</td>\n",
       "      <td></td>\n",
       "      <td></td>\n",
       "      <td></td>\n",
       "    </tr>\n",
       "    <tr>\n",
       "      <th>5</th>\n",
       "      <td>Encounter</td>\n",
       "      <td>Motion</td>\n",
       "      <td>Motion</td>\n",
       "      <td>Sleep_Dailies</td>\n",
       "      <td></td>\n",
       "      <td></td>\n",
       "      <td></td>\n",
       "    </tr>\n",
       "    <tr>\n",
       "      <th>6</th>\n",
       "      <td>Environmental</td>\n",
       "      <td>Motion_New</td>\n",
       "      <td>Observation</td>\n",
       "      <td>Sleep_Weeklies</td>\n",
       "      <td></td>\n",
       "      <td></td>\n",
       "      <td></td>\n",
       "    </tr>\n",
       "    <tr>\n",
       "      <th>7</th>\n",
       "      <td>Issue</td>\n",
       "      <td>Physiology</td>\n",
       "      <td>Physiology</td>\n",
       "      <td>Temperature</td>\n",
       "      <td></td>\n",
       "      <td></td>\n",
       "      <td></td>\n",
       "    </tr>\n",
       "    <tr>\n",
       "      <th>8</th>\n",
       "      <td>Observation_Notes</td>\n",
       "      <td>Sleep</td>\n",
       "      <td>Temperature</td>\n",
       "      <td></td>\n",
       "      <td></td>\n",
       "      <td></td>\n",
       "      <td></td>\n",
       "    </tr>\n",
       "    <tr>\n",
       "      <th>9</th>\n",
       "      <td>Procedure</td>\n",
       "      <td>Transitions</td>\n",
       "      <td>Wellbeing</td>\n",
       "      <td></td>\n",
       "      <td></td>\n",
       "      <td></td>\n",
       "      <td></td>\n",
       "    </tr>\n",
       "    <tr>\n",
       "      <th>10</th>\n",
       "      <td>Sleep_Event</td>\n",
       "      <td></td>\n",
       "      <td></td>\n",
       "      <td></td>\n",
       "      <td></td>\n",
       "      <td></td>\n",
       "      <td></td>\n",
       "    </tr>\n",
       "    <tr>\n",
       "      <th>11</th>\n",
       "      <td>Sleep_Mat</td>\n",
       "      <td></td>\n",
       "      <td></td>\n",
       "      <td></td>\n",
       "      <td></td>\n",
       "      <td></td>\n",
       "      <td></td>\n",
       "    </tr>\n",
       "    <tr>\n",
       "      <th>12</th>\n",
       "      <td>Vital_Signs</td>\n",
       "      <td></td>\n",
       "      <td></td>\n",
       "      <td></td>\n",
       "      <td></td>\n",
       "      <td></td>\n",
       "      <td></td>\n",
       "    </tr>\n",
       "  </tbody>\n",
       "</table>\n",
       "</div>"
      ],
      "text/plain": [
       "                  RAW           BASE       LEGACY              PROFILE  \\\n",
       "0            Activity  Bed_Occupancy  Device_Type     Activity_Dailies   \n",
       "1          Appliances          Doors        Doors    Activity_Weeklies   \n",
       "2         Behavioural       Entryway     Entryway                Light   \n",
       "3      Blood_Pressure        Habitat        Flags   Physiology_Dailies   \n",
       "4                Door        Kitchen        Light  Physiology_Weeklies   \n",
       "5           Encounter         Motion       Motion        Sleep_Dailies   \n",
       "6       Environmental     Motion_New  Observation       Sleep_Weeklies   \n",
       "7               Issue     Physiology   Physiology          Temperature   \n",
       "8   Observation_Notes          Sleep  Temperature                        \n",
       "9           Procedure    Transitions    Wellbeing                        \n",
       "10        Sleep_Event                                                    \n",
       "11          Sleep_Mat                                                    \n",
       "12        Vital_Signs                                                    \n",
       "\n",
       "        SLEEP_STUDY        LOOKUP     BED_HABITS  \n",
       "0           Diurnal  Device_Types  Bed_Occupancy  \n",
       "1         Nocturnal         Homes                 \n",
       "2   Withings_Nights      Patients                 \n",
       "3     Withings_Tidy                               \n",
       "4                                                 \n",
       "5                                                 \n",
       "6                                                 \n",
       "7                                                 \n",
       "8                                                 \n",
       "9                                                 \n",
       "10                                                \n",
       "11                                                \n",
       "12                                                "
      ]
     },
     "execution_count": 2,
     "metadata": {},
     "output_type": "execute_result"
    }
   ],
   "source": [
    "dcarte.domains()"
   ]
  },
  {
   "cell_type": "code",
   "execution_count": 7,
   "metadata": {},
   "outputs": [
    {
     "name": "stdout",
     "output_type": "stream",
     "text": [
      "Finished Loading sleep_mat in:                 1.6 seconds   \n"
     ]
    }
   ],
   "source": [
    "sleep = dcarte.load('sleep_mat','raw')"
   ]
  },
  {
   "cell_type": "code",
   "execution_count": 9,
   "metadata": {},
   "outputs": [
    {
     "data": {
      "text/plain": [
       "min      2019-04-01 00:00:00\n",
       "max      2022-02-28 07:51:00\n",
       "count               12042058\n",
       "Name: start_date, dtype: object"
      ]
     },
     "execution_count": 9,
     "metadata": {},
     "output_type": "execute_result"
    }
   ],
   "source": [
    "sleep.start_date.agg(['min','max','count'])"
   ]
  },
  {
   "cell_type": "code",
   "execution_count": 10,
   "metadata": {},
   "outputs": [
    {
     "name": "stdout",
     "output_type": "stream",
     "text": [
      "Processing sleep_mat :*"
     ]
    },
    {
     "name": "stderr",
     "output_type": "stream",
     "text": [
      "Downloading sleep_mat: 100%|██████████| 1/1 [00:02<00:00,  2.88s/it]\n"
     ]
    },
    {
     "name": "stdout",
     "output_type": "stream",
     "text": [
      "Finished Loading sleep_mat in:                37.7 seconds   \n"
     ]
    }
   ],
   "source": [
    "sleep = dcarte.load('sleep_mat','raw')"
   ]
  }
 ],
 "metadata": {
  "interpreter": {
   "hash": "b0ee27f7a97b1fdf1136c05d44d8faf8d1201229ac0bc94db93de0aa97de366a"
  },
  "kernelspec": {
   "display_name": "Python 3.8.12 ('sandbox')",
   "language": "python",
   "name": "python3"
  },
  "language_info": {
   "codemirror_mode": {
    "name": "ipython",
    "version": 3
   },
   "file_extension": ".py",
   "mimetype": "text/x-python",
   "name": "python",
   "nbconvert_exporter": "python",
   "pygments_lexer": "ipython3",
   "version": "3.8.12"
  },
  "orig_nbformat": 4
 },
 "nbformat": 4,
 "nbformat_minor": 2
}

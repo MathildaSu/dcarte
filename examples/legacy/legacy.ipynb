{
 "cells": [
  {
   "cell_type": "code",
   "execution_count": 1,
   "metadata": {},
   "outputs": [],
   "source": [
    "import numpy as np \n",
    "import pandas as pd \n",
    "import matplotlib.pyplot as plt\n",
    "import os\n",
    "import sys\n",
    "# This line allows you to clone the repository and skip installing dcarte\n",
    "sys.path.insert(0, os.path.abspath(\"../..\"))\n",
    "import dcarte\n",
    "# This line allows live changes to the imported file \n",
    "%load_ext autoreload\n",
    "%autoreload 2"
   ]
  },
  {
   "cell_type": "code",
   "execution_count": 41,
   "metadata": {},
   "outputs": [],
   "source": [
    "from dcarte.config import get_config\n",
    "import zipfile\n",
    "legacy = 'tihmdri'\n",
    "TIHM = '/external/tihm_dri/'\n",
    "cfg = get_config()\n",
    "zip = zipfile.ZipFile(f'{cfg[\"data_folder\"]}{TIHM}{legacy}.zip')"
   ]
  }
 ],
 "metadata": {
  "interpreter": {
   "hash": "95142358406f399e4722a2fd3e1bc1bda263f5a2d4e0a0f6353dfcc67254a7be"
  },
  "kernelspec": {
   "display_name": "Python 3.9.9 64-bit ('dcarte-zsFC2Zi4-py3.9': poetry)",
   "language": "python",
   "name": "python3"
  },
  "language_info": {
   "codemirror_mode": {
    "name": "ipython",
    "version": 3
   },
   "file_extension": ".py",
   "mimetype": "text/x-python",
   "name": "python",
   "nbconvert_exporter": "python",
   "pygments_lexer": "ipython3",
   "version": "3.9.9"
  },
  "orig_nbformat": 4
 },
 "nbformat": 4,
 "nbformat_minor": 2
}
